{
  "nbformat": 4,
  "nbformat_minor": 0,
  "metadata": {
    "colab": {
      "name": "dataset_fuel_test.ipynb",
      "provenance": []
    },
    "kernelspec": {
      "name": "python3",
      "display_name": "Python 3"
    }
  },
  "cells": [
    {
      "cell_type": "markdown",
      "metadata": {
        "id": "l7bfi4gCaeNQ",
        "colab_type": "text"
      },
      "source": [
        "**Mining CSV files**\n",
        "\n",
        "\n",
        "***mpg.csv contains fuel economy data for 36615 cars.***\n",
        "\n",
        "mpg : miles per gallon\n",
        "\n",
        "class : car classification\n",
        "\n",
        "cty : city mpg\n",
        "\n",
        "cyl : # of cylinders\n",
        "\n",
        "displ : engine displacement in liters\n",
        "\n",
        "drv : f = front-wheel drive, r = rear wheel drive, 4 = 4wd\n",
        "\n",
        "fl : fuel (e = ethanol E85, d = diesel, r = regular, p = premium, c = CNG)\n",
        "\n",
        "hwy : highway mpg\n",
        "\n",
        "manufacturer : automobile manufacturer\n",
        "\n",
        "model : model of car\n",
        "\n",
        "trans : type of transmission\n",
        "\n",
        "year : model year\n",
        "\n",
        "\n",
        "---\n",
        "\n",
        "\n",
        "**question:**\n",
        "\n",
        "\n",
        "1: How much is the average city fuel economy across all cars ?\n",
        "\n",
        "2: How much are cylinders of the cars in our dataset have?\n",
        "\n",
        "3: If we grouping the cars by number of cylinder, how many is the average cty mpg for each group?\n",
        "\n",
        "4: Which car model is the most fuel average usage"
      ]
    },
    {
      "cell_type": "code",
      "metadata": {
        "id": "dhbK98qh5UKO",
        "colab_type": "code",
        "colab": {}
      },
      "source": [
        "import csv\n",
        "with open('/content/mpg.csv') as csv_file:\n",
        "    reader = csv.reader(csv_file)\n",
        "    #mpg = list(csv.DictReader(csv_file))\n",
        "    fuel_data = list(reader)\n",
        "\n",
        "print(len(fuel_data))\n",
        "#print(mpg[0]['cty'])"
      ],
      "execution_count": null,
      "outputs": []
    },
    {
      "cell_type": "markdown",
      "metadata": {
        "id": "YO2cSdNwD8FC",
        "colab_type": "text"
      },
      "source": [
        "**data_dict**: hold both the string and the count of that string in a dictionary.\n",
        "\n",
        "**data_set** :{'r', 'p', 'e', 'Unleaded Gasoline', 'd', 'Leaded Gasoline', 'R', 'P', 'Leaded GasolineUnleaded Gasoline', 'NA', 'C', '9', 'c', 'D'}"
      ]
    },
    {
      "cell_type": "code",
      "metadata": {
        "id": "R91kxALn_wy6",
        "colab_type": "code",
        "colab": {}
      },
      "source": [
        "def get_string_data_from_csv(index):\n",
        "    data_list = [0]*len(fuel_data)\n",
        "    data_dict = {}\n",
        "    for i in range(1, len(fuel_data)):\n",
        "      data_list[i] = fuel_data[i][index]\n",
        "\n",
        "    del data_list[0]\n",
        "    data_set = set(data_list)\n",
        "    unique_list = list(data_set)\n",
        "\n",
        "    for i in range(0, len(unique_list)):\n",
        "      num_of_items = data_list.count(unique_list[i])\n",
        "      data_dict[unique_list[i]] = num_of_items\n",
        "    return data_dict\n",
        "\n",
        "print(get_string_data_from_csv(3))\n"
      ],
      "execution_count": null,
      "outputs": []
    },
    {
      "cell_type": "markdown",
      "metadata": {
        "id": "BmsWSLFmSVAS",
        "colab_type": "text"
      },
      "source": [
        "**mean** function:"
      ]
    },
    {
      "cell_type": "code",
      "metadata": {
        "id": "_HTDZrPbSTDO",
        "colab_type": "code",
        "colab": {}
      },
      "source": [
        "def mean(*args):\n",
        "  val_sum = sum(args)\n",
        "  return val_sum / len(args)\n",
        "\n",
        "print(f\"Mean : {mean(1.5,2,3,4,5)}\")"
      ],
      "execution_count": null,
      "outputs": []
    },
    {
      "cell_type": "markdown",
      "metadata": {
        "id": "sm6flgCIYnS0",
        "colab_type": "text"
      },
      "source": [
        "now we will group city miles per gallon(cty) base on number of cylinder."
      ]
    },
    {
      "cell_type": "code",
      "metadata": {
        "id": "MegpAWWQU5AU",
        "colab_type": "code",
        "colab": {}
      },
      "source": [
        "def get_key_list(index, data_dict):\n",
        "  cty_dict = {}\n",
        "  for key in data_dict.keys():\n",
        "    cty_dict[key] = []\n",
        "    for i in range(1, len(fuel_data)):\n",
        "      \n",
        "      if key == fuel_data[i][index]:\n",
        "        if fuel_data[i][5]=='NA':\n",
        "         continue\n",
        "        cty_dict.setdefault(key, []).append(float(fuel_data[i][5]))\n",
        "        #cty is 5th col\n",
        "  return cty_dict\n",
        "\n",
        "category_dict = get_string_data_from_csv(3)\n",
        "cty_base_on_cylender = get_key_list(3,category_dict)\n",
        "for title,values in cty_base_on_cylender.items():\n",
        "  print(f\"{title} : {values}\")\n",
        "#print(f\"{cty_base_on_cylender}\")"
      ],
      "execution_count": null,
      "outputs": []
    },
    {
      "cell_type": "markdown",
      "metadata": {
        "id": "HoecKKnqd_6U",
        "colab_type": "text"
      },
      "source": [
        "to calculate the mean:"
      ]
    },
    {
      "cell_type": "code",
      "metadata": {
        "id": "ZTUa7U1seEhz",
        "colab_type": "code",
        "colab": {}
      },
      "source": [
        "def get_mean_category_dict(data_dict):\n",
        "  mean_dict={}\n",
        "  for key in data_dict.keys():\n",
        "    mean_dict[key] = mean(*data_dict[key])\n",
        "  return mean_dict\n",
        "\n",
        "\n",
        "print(get_mean_category_dict(cty_base_on_cylender))"
      ],
      "execution_count": null,
      "outputs": []
    },
    {
      "cell_type": "markdown",
      "metadata": {
        "id": "6x_2c96WgohU",
        "colab_type": "text"
      },
      "source": [
        "answers to the questions:\n",
        "\n",
        "  1: How much is the average city fuel economy across all cars ?\n",
        "\n",
        "  2: How much are cylinders of the cars in our dataset have?\n",
        "\n",
        "  3: If we grouping the cars by number of cylinder, how many is the average cty mpg for each group?\n",
        "\n",
        "  4: Which car model is the most fuel average usage"
      ]
    },
    {
      "cell_type": "code",
      "metadata": {
        "id": "MQPghMDgg2WY",
        "colab_type": "code",
        "colab": {}
      },
      "source": [
        "def get_the_whole_columns_of_index(index):\n",
        "    data_list = []\n",
        "    data_dict = {}\n",
        "    for i in range(1, len(fuel_data)):\n",
        "      if fuel_data[i][index].isnumeric():\n",
        "        data_list.append(float(fuel_data[i][index]))\n",
        "      \n",
        "    return data_list\n",
        "# cty is the 5th col. \n",
        "cty_list = get_the_whole_columns_of_index(5)\n",
        "\n",
        "\n",
        "category_dict = get_string_data_from_csv(3)\n",
        "cty_base_on_cylender = get_key_list(3,category_dict)\n",
        "\n",
        "\n",
        "\n",
        "\n",
        "print(f\"the average city fuel economy across all cars: {sum(cty_list)/len(cty_list)}\\n\\n\")\n",
        "print(f\"cylinders of the cars in our dataset have :{get_string_data_from_csv(3)}\\n\\n\")\n",
        "for title,values in cty_base_on_cylender.items():\n",
        "  print(f\"cars by number of cylinders:\\n\\n{title} Cylenders average cty mpg : {sum(values)/len(values)}\")"
      ],
      "execution_count": null,
      "outputs": []
    }
  ]
}